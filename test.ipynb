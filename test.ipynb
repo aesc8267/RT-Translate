{
 "cells": [
  {
   "cell_type": "markdown",
   "id": "40c80e4f1d5f0b74",
   "metadata": {},
   "source": []
  },
  {
   "cell_type": "code",
   "execution_count": 1,
   "id": "initial_id",
   "metadata": {
    "ExecuteTime": {
     "end_time": "2025-03-28T08:09:08.394220Z",
     "start_time": "2025-03-28T08:09:08.011395Z"
    },
    "collapsed": true
   },
   "outputs": [],
   "source": [
    "import pymongo"
   ]
  },
  {
   "cell_type": "code",
   "execution_count": 2,
   "id": "379466645d79498f",
   "metadata": {
    "ExecuteTime": {
     "end_time": "2025-03-28T08:11:38.349125Z",
     "start_time": "2025-03-28T08:11:38.342144Z"
    }
   },
   "outputs": [],
   "source": [
    "client=pymongo.MongoClient(\"mongodb://localhost:27017/\")"
   ]
  },
  {
   "cell_type": "code",
   "execution_count": 4,
   "id": "f44739a438085e4b",
   "metadata": {
    "ExecuteTime": {
     "end_time": "2025-03-28T08:12:01.783572Z",
     "start_time": "2025-03-28T08:12:01.780775Z"
    }
   },
   "outputs": [],
   "source": [
    "db=client['rt-translate']"
   ]
  },
  {
   "cell_type": "code",
   "execution_count": 5,
   "id": "1245bbe1d3ad8860",
   "metadata": {
    "ExecuteTime": {
     "end_time": "2025-03-28T08:12:04.281238Z",
     "start_time": "2025-03-28T08:12:04.275265Z"
    }
   },
   "outputs": [
    {
     "data": {
      "text/plain": [
       "['admin', 'checkpointing_db', 'config', 'local', 'rt-translate', 'test']"
      ]
     },
     "execution_count": 5,
     "metadata": {},
     "output_type": "execute_result"
    }
   ],
   "source": [
    "client.list_database_names()"
   ]
  },
  {
   "cell_type": "code",
   "execution_count": 7,
   "id": "142876bf262ef94c",
   "metadata": {
    "ExecuteTime": {
     "end_time": "2025-03-28T08:12:12.427208Z",
     "start_time": "2025-03-28T08:12:12.423790Z"
    }
   },
   "outputs": [],
   "source": [
    "messages=db['response']"
   ]
  },
  {
   "cell_type": "code",
   "execution_count": 12,
   "id": "e2601f44",
   "metadata": {},
   "outputs": [
    {
     "data": {
      "text/plain": [
       "{'nIndexesWas': 1, 'ns': 'rt-translate.response', 'ok': 1.0}"
      ]
     },
     "execution_count": 12,
     "metadata": {},
     "output_type": "execute_result"
    }
   ],
   "source": [
    "db.drop_collection('response')"
   ]
  },
  {
   "cell_type": "code",
   "execution_count": 29,
   "id": "e600bf9b6a88fb91",
   "metadata": {
    "ExecuteTime": {
     "end_time": "2025-03-28T08:20:54.908737Z",
     "start_time": "2025-03-28T08:20:54.903774Z"
    }
   },
   "outputs": [
    {
     "data": {
      "text/plain": [
       "datetime.datetime(2025, 3, 28, 8, 20, 54, 905775)"
      ]
     },
     "execution_count": 29,
     "metadata": {},
     "output_type": "execute_result"
    }
   ],
   "source": [
    "import  datetime\n",
    "datetime.datetime.utcnow()"
   ]
  },
  {
   "cell_type": "code",
   "execution_count": 35,
   "id": "f91bd7f4dac67a01",
   "metadata": {
    "ExecuteTime": {
     "end_time": "2025-03-28T08:25:06.800305Z",
     "start_time": "2025-03-28T08:25:06.794090Z"
    }
   },
   "outputs": [
    {
     "data": {
      "text/plain": [
       "InsertOneResult(ObjectId('67e65ce2e25bee1a169e9a43'), acknowledged=True)"
      ]
     },
     "execution_count": 35,
     "metadata": {},
     "output_type": "execute_result"
    }
   ],
   "source": [
    "messages.insert_one({\n",
    "    \"user\":\"xiao ming\",\n",
    "    \"create_time\":datetime.datetime.utcnow().strftime(\"%Y-%m-%d %H:%M:%S\"),\n",
    "    \"message\":\"\",\n",
    "    \"update_time\":datetime.datetime.utcnow().strftime(\"%Y-%m-%d %H:%M:%S\")\n",
    "})"
   ]
  },
  {
   "cell_type": "code",
   "execution_count": 37,
   "id": "384dfe6e729a6231",
   "metadata": {
    "ExecuteTime": {
     "end_time": "2025-03-28T08:49:36.297641Z",
     "start_time": "2025-03-28T08:49:36.290754Z"
    }
   },
   "outputs": [],
   "source": [
    "res=messages.find().to_list()"
   ]
  },
  {
   "cell_type": "code",
   "execution_count": 39,
   "id": "3952faf56bd9c689",
   "metadata": {
    "ExecuteTime": {
     "end_time": "2025-03-28T08:49:52.115461Z",
     "start_time": "2025-03-28T08:49:52.108795Z"
    }
   },
   "outputs": [
    {
     "data": {
      "text/plain": [
       "dict"
      ]
     },
     "execution_count": 39,
     "metadata": {},
     "output_type": "execute_result"
    }
   ],
   "source": [
    "type(res[0])"
   ]
  },
  {
   "cell_type": "code",
   "execution_count": null,
   "id": "5e16606177d6e8e5",
   "metadata": {},
   "outputs": [],
   "source": []
  }
 ],
 "metadata": {
  "kernelspec": {
   "display_name": "rtt",
   "language": "python",
   "name": "python3"
  },
  "language_info": {
   "codemirror_mode": {
    "name": "ipython",
    "version": 3
   },
   "file_extension": ".py",
   "mimetype": "text/x-python",
   "name": "python",
   "nbconvert_exporter": "python",
   "pygments_lexer": "ipython3",
   "version": "3.11.11"
  }
 },
 "nbformat": 4,
 "nbformat_minor": 5
}
